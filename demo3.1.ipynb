{
 "cells": [
  {
   "cell_type": "markdown",
   "metadata": {},
   "source": [
    "# 谢钢GPS原理与接收机设计 P61 例题3.1\n",
    "\n",
    "导航电文如下, 计算$t_{gps} = 239050.7223 s$ 时的卫星空间位置 <br>\n",
    "$ t_{oe} = 244800$ , <br>\n",
    "$ \\sqrt{a_s} = 5153.65531$ , <br>\n",
    "$ e_s = 0.005912038265$ , <br>\n",
    "$ i_0 = 0.9848407943$ , <br>\n",
    "$ \\Omega_0 = 1.038062244 $ , <br>\n",
    "$ \\omega = -1.717457876 $ , <br>\n",
    "$ M_0 = -1.064739758 $ , <br>\n",
    "$ \\Delta n = 4.249105564 * 10^{-9} $ , <br>\n",
    "$ \\dot i = 7.422851197 * 10^{-51} $ , <br>\n",
    "$ \\dot \\Omega = -8.151768125 * 10^{-9} $ , <br>\n",
    "$ C_{uc} = 3.0541738045 * 10^{-7} $ , <br>\n",
    "$ C_{us} = 2.237036824 * 10^{-6} $ , <br>\n",
    "$ C_{rc} = 350.53125 $ , <br>\n",
    "$ C_{rs} = 2.53125 $ , <br>\n",
    "$ C_{ic} = -8.381903172 * 10^{-8} $ , <br>\n",
    "$ C_{is} = 8.940696716 * 10^{-8} $ <br>\n"
   ]
  },
  {
   "cell_type": "code",
   "execution_count": 1,
   "metadata": {},
   "outputs": [],
   "source": [
    "# 电文参数\n",
    "t_oe = 244800\n",
    "sr_as = 5153.65531  # square_root_as\n",
    "e_s = 0.005912038265\n",
    "i_0 = 0.9848407943\n",
    "Omega_0 = 1.038062244\n",
    "omega = -1.717457876\n",
    "M_0 = -1.064739758\n",
    "Delta_n = 4.249105564 * 10 ** (-9)\n",
    "dot_i = 7.422851197 * 10 ** (-51)\n",
    "dot_Omega = -8.151768125 * 10 ** (-9)\n",
    "C_uc = 3.0541738045 * 10 ** (-7)\n",
    "C_us = 2.237036824 * 10 ** (-6)\n",
    "C_rc = 350.53125\n",
    "C_rs = 2.53125\n",
    "C_ic = -8.381903172 * 10 ** (-8)\n",
    "C_is = 8.940696716 * 10 ** (-8)\n",
    "\n",
    "t = 239050.7223\n",
    "a_s = sr_as ** 2\n"
   ]
  },
  {
   "cell_type": "markdown",
   "metadata": {},
   "source": [
    "# WGS-84的基本大地参数 <br>\n",
    "\n",
    "基本椭球体的长半径 $a = 6378137.0 m$ <br>\n",
    "基准椭球体的极扁率 $f = 1/298.257223563 $ <br>\n",
    "地球自转角速度 $ \\dot{\\Omega}_e = 7.2921151467 * 10^{-5} rad/s $ <br>\n",
    "地球引力与地球质量乘积 $GM = 3.986005 * 10^{14}  m^3/s^2 $ <br>\n",
    "真空中的光速 $ c = 2.99792458 * 10^8 m/s $\n"
   ]
  },
  {
   "cell_type": "code",
   "execution_count": 2,
   "metadata": {},
   "outputs": [],
   "source": [
    "GM = 3.986005 * 10 ** 14\n",
    "dot_Omega_earth = 7.2921151467 * 10 ** (-5)"
   ]
  },
  {
   "cell_type": "markdown",
   "metadata": {},
   "source": [
    "1. 计算规化时间  <br>\n",
    "$ t_k = t - t_{oe}  $\n"
   ]
  },
  {
   "cell_type": "code",
   "execution_count": 3,
   "metadata": {},
   "outputs": [
    {
     "data": {
      "text/plain": [
       "-5749.277700000006"
      ]
     },
     "execution_count": 3,
     "metadata": {},
     "output_type": "execute_result"
    }
   ],
   "source": [
    "t_k = t - t_oe\n",
    "t_k"
   ]
  },
  {
   "cell_type": "markdown",
   "metadata": {},
   "source": [
    "2. 计算卫星平均角速度n <br>\n",
    "$ n_0 = \\sqrt{\\frac{GM}{a_s^3}} = \\sqrt{\\frac{ \\mu }{a_s^3}}, \\mu = 3.986005 * 10^{14} \\frac{m^3}{s^2} $ <br> \n",
    "$ n = n_0 + \\Delta_n $ <br>\n"
   ]
  },
  {
   "cell_type": "code",
   "execution_count": 4,
   "metadata": {},
   "outputs": [
    {
     "data": {
      "text/plain": [
       "0.00014585975041316255"
      ]
     },
     "execution_count": 4,
     "metadata": {},
     "output_type": "execute_result"
    }
   ],
   "source": [
    "from math import sqrt\n",
    "\n",
    "n_0 = sqrt(GM / a_s ** 3)\n",
    "n = n_0 + Delta_n\n",
    "n"
   ]
  },
  {
   "cell_type": "markdown",
   "metadata": {},
   "source": [
    "3. 计算平近点角M_k <br>\n",
    "$ M_k = M_0 + n * t_k $\n"
   ]
  },
  {
   "cell_type": "code",
   "execution_count": 5,
   "metadata": {},
   "outputs": [
    {
     "data": {
      "text/plain": [
       "-1.903327968377962"
      ]
     },
     "execution_count": 5,
     "metadata": {},
     "output_type": "execute_result"
    }
   ],
   "source": [
    "M_k = M_0 + n * t_k\n",
    "M_k"
   ]
  },
  {
   "cell_type": "markdown",
   "metadata": {},
   "source": [
    "归化到$[0, 2\\pi]$\n"
   ]
  },
  {
   "cell_type": "code",
   "execution_count": 6,
   "metadata": {},
   "outputs": [
    {
     "data": {
      "text/plain": [
       "4.379857338801624"
      ]
     },
     "execution_count": 6,
     "metadata": {},
     "output_type": "execute_result"
    }
   ],
   "source": [
    "from math import pi\n",
    "\n",
    "\n",
    "def norm_0_2pi(m):\n",
    "    if m > 2 * pi:\n",
    "        return norm_0_2pi(m - 2 * pi)\n",
    "    elif m < 0:\n",
    "        return norm_0_2pi(m + 2 * pi)\n",
    "    else:\n",
    "        return m\n",
    "\n",
    "\n",
    "M_k = norm_0_2pi(M_k)\n",
    "M_k"
   ]
  },
  {
   "cell_type": "markdown",
   "metadata": {},
   "source": [
    "4. 计算偏近点角 <br>\n",
    "$ M = E - e_s * sin(E) $ <br>\n",
    "$ E_{k} = M + e_s * sin(E_{k - 1}) $\n"
   ]
  },
  {
   "cell_type": "code",
   "execution_count": 7,
   "metadata": {},
   "outputs": [
    {
     "name": "stdout",
     "output_type": "stream",
     "text": [
      "4.379857338801624\n",
      "4.374269168189134\n",
      "4.374280040041773\n"
     ]
    }
   ],
   "source": [
    "from math import sin\n",
    "\n",
    "E_k = 0\n",
    "E_k_1 = 0\n",
    "for _ in range(100):\n",
    "    E_k = M_k + e_s * sin(E_k_1)\n",
    "    print(E_k)\n",
    "    if abs(E_k - E_k_1) < 0.0001:\n",
    "        break\n",
    "    E_k_1 = E_k"
   ]
  },
  {
   "cell_type": "markdown",
   "metadata": {},
   "source": [
    "5. 计算真近点角$v_k$\n",
    "\n",
    "$ cos(\\upsilon) = \\frac {cos(E) - e_s} {1 - e_s cos(E)} $ <br>\n",
    "$ sin(\\upsilon) = \\frac {\\sqrt{1 - e_s^2} sin(E)} {1 - e_s cos(E)} $  <br>\n",
    "$ tan(\\upsilon) = \\frac{sin(\\upsilon)}{cos(\\upsilon)} $  <br>\n",
    "$ \\upsilon = arctan(\\frac{sin(\\upsilon)}{cos(\\upsilon)}) $\n"
   ]
  },
  {
   "cell_type": "code",
   "execution_count": 8,
   "metadata": {},
   "outputs": [
    {
     "data": {
      "text/plain": [
       "-1.9144771581123803"
      ]
     },
     "execution_count": 8,
     "metadata": {},
     "output_type": "execute_result"
    }
   ],
   "source": [
    "from math import sqrt, sin, cos, atan2\n",
    "\n",
    "\n",
    "cos_v = (cos(E_k) - e_s) / (1 - e_s * cos(E_k))\n",
    "sin_v = (sqrt(1 - e_s ** 2) * sin(E_k)) / (1 - e_s * cos(E_k))\n",
    "tan_v = sin_v / cos_v\n",
    "v_k = atan2(sin_v, cos_v)\n",
    "v_k"
   ]
  },
  {
   "cell_type": "markdown",
   "metadata": {},
   "source": [
    "归化到$(-\\pi, \\pi]$\n"
   ]
  },
  {
   "cell_type": "code",
   "execution_count": 9,
   "metadata": {},
   "outputs": [
    {
     "data": {
      "text/plain": [
       "-1.9144771581123803"
      ]
     },
     "execution_count": 9,
     "metadata": {},
     "output_type": "execute_result"
    }
   ],
   "source": [
    "def norm_pi_pi(v):\n",
    "    if v > pi:\n",
    "        return norm_pi_pi(v - 2 * pi)\n",
    "    elif v < -pi:\n",
    "        return norm_pi_pi(v + 2 * pi)\n",
    "    else:\n",
    "        return v\n",
    "\n",
    "\n",
    "v_k = norm_pi_pi(v_k)\n",
    "v_k"
   ]
  },
  {
   "cell_type": "markdown",
   "metadata": {},
   "source": [
    "6. 计算卫星发射时刻的升交点角距 $ \\Phi_k$ <br>\n",
    "$ \\Phi_k = v_k + \\omega $\n"
   ]
  },
  {
   "cell_type": "code",
   "execution_count": 10,
   "metadata": {},
   "outputs": [
    {
     "data": {
      "text/plain": [
       "-3.6319350341123804"
      ]
     },
     "execution_count": 10,
     "metadata": {},
     "output_type": "execute_result"
    }
   ],
   "source": [
    "phi_k = v_k + omega\n",
    "phi_k"
   ]
  },
  {
   "cell_type": "markdown",
   "metadata": {},
   "source": [
    "7. 摄动校正项 <br>\n",
    "$ \\delta{u_k} = C_{us} sin(2 \\Phi_k) + C_{uc} cos(2 \\Phi_k)$ <br>\n",
    "$ \\delta{r_k} = C_{rs} sin(2 \\Phi_k) + C_{rc} cos(2 \\Phi_k)$ <br>\n",
    "$ \\delta{i_k} = C_{is} sin(2 \\Phi_k) + C_{ic} cos(2 \\Phi_k)$ <br>\n"
   ]
  },
  {
   "cell_type": "code",
   "execution_count": 11,
   "metadata": {},
   "outputs": [
    {
     "name": "stdout",
     "output_type": "stream",
     "text": [
      "-1.6887553926791502e-06 192.95125796625567 -1.2092774832095e-07\n"
     ]
    }
   ],
   "source": [
    "sin_2_phi = sin(2 * phi_k)\n",
    "cos_2_phi = cos(2 * phi_k)\n",
    "delta_u_k = C_us * sin_2_phi + C_uc * cos_2_phi\n",
    "delta_r_k = C_rs * sin_2_phi + C_rc * cos_2_phi\n",
    "delta_i_k = C_is * sin_2_phi + C_ic * cos_2_phi\n",
    "print(delta_u_k, delta_r_k, delta_i_k)"
   ]
  },
  {
   "cell_type": "markdown",
   "metadata": {},
   "source": [
    "8. 校正 升交点角距 $u_k$, 卫星矢径长度$r_k$, 轨道倾角$i_k$ <br>\n",
    "$ u_k = \\Phi_k + \\delta u_k $ <br>\n",
    "$ r_k = a_s(1-e_s cos(E_k)) + \\delta r_k $ <br>\n",
    "$ i_k = i_0 + \\dot{i} t_k + \\delta{i_k} $\n"
   ]
  },
  {
   "cell_type": "code",
   "execution_count": 12,
   "metadata": {},
   "outputs": [
    {
     "name": "stdout",
     "output_type": "stream",
     "text": [
      "-3.6319367228677732 26612441.67831102 0.9848406733722517\n"
     ]
    }
   ],
   "source": [
    "u_k = phi_k + delta_u_k\n",
    "r_k = a_s * (1 - e_s * cos(E_k)) + delta_r_k\n",
    "i_k = i_0 + dot_i * t_k + delta_i_k\n",
    "\n",
    "print(u_k, r_k, i_k)"
   ]
  },
  {
   "cell_type": "markdown",
   "metadata": {},
   "source": [
    "9. 计算卫星在轨道平面的位置$(x_k^’,y_k^’)$\n"
   ]
  },
  {
   "cell_type": "code",
   "execution_count": 13,
   "metadata": {},
   "outputs": [
    {
     "name": "stdout",
     "output_type": "stream",
     "text": [
      "-23476721.053770237 12532582.361387728\n"
     ]
    }
   ],
   "source": [
    "x_k_tmp = r_k * cos(u_k)\n",
    "y_k_tmp = r_k * sin(u_k)\n",
    "z_k_tmp = 0\n",
    "print(x_k_tmp, y_k_tmp)"
   ]
  },
  {
   "cell_type": "markdown",
   "metadata": {},
   "source": [
    "*Notes*\n",
    "* 书中的x结果为 -23476720.79\n",
    "* python结果为  -23476721.053770237\n",
    "* matlab, windows计算器 计算结果一致, 为 -23476717.58207684, 相差在m级\n"
   ]
  },
  {
   "cell_type": "markdown",
   "metadata": {},
   "source": [
    "10. 计算升交点赤经$\\Omega_k$ <br>\n",
    "$\\Omega_k = \\Omega_0 + (\\dot{\\Omega} - \\dot{\\Omega}_e) t_k - \\dot{\\Omega}_e t_{oe} $\n"
   ]
  },
  {
   "cell_type": "code",
   "execution_count": 14,
   "metadata": {},
   "outputs": [
    {
     "data": {
      "text/plain": [
       "-16.39374481835536"
      ]
     },
     "execution_count": 14,
     "metadata": {},
     "output_type": "execute_result"
    }
   ],
   "source": [
    "Omega_k = Omega_0 + (dot_Omega - dot_Omega_earth) * t_k - dot_Omega_earth * t_oe\n",
    "Omega_k"
   ]
  },
  {
   "cell_type": "code",
   "execution_count": 15,
   "metadata": {},
   "outputs": [
    {
     "data": {
      "text/plain": [
       "2.4558111031834002"
      ]
     },
     "execution_count": 15,
     "metadata": {},
     "output_type": "execute_result"
    }
   ],
   "source": [
    "Omega_k = norm_0_2pi(Omega_k)\n",
    "Omega_k"
   ]
  },
  {
   "cell_type": "markdown",
   "metadata": {},
   "source": [
    "11. 计算WGS-84下ECEF的坐标 <br>\n",
    "$ x_k = x_k^’ * cos(\\Omega_k) - y_k^’cos(i_k)sin(\\Omega_k) $<br>\n",
    "$ y_k = x_k^’ * sin(\\Omega_k) + y_k^’cos(i_k)cos(\\Omega_k) $<br>\n",
    "$ z_k = y_k^’sin(i_k)$<br>\n"
   ]
  },
  {
   "cell_type": "code",
   "execution_count": 16,
   "metadata": {},
   "outputs": [
    {
     "name": "stdout",
     "output_type": "stream",
     "text": [
      "13780293.675619591 -20230949.077383496 10441947.027422614\n"
     ]
    }
   ],
   "source": [
    "x_k = x_k_tmp * cos(Omega_k) - y_k_tmp * cos(i_k) * sin(Omega_k)\n",
    "y_k = x_k_tmp * sin(Omega_k) + y_k_tmp * cos(i_k) * cos(Omega_k)\n",
    "z_k = y_k_tmp * sin(i_k)\n",
    "print(x_k, y_k, z_k)"
   ]
  },
  {
   "cell_type": "markdown",
   "metadata": {},
   "source": [
    "12. 计算卫星速度 <br>\n",
    "$ \\dot{x_k} = (x_k^’ - y_k^’ \\dot{\\Omega_k}cos(\\Omega_k) - (x_k^’\\dot{\\Omega_k} + y_k^’ cos(i_k) - y_k^’\\dot{i_k}sin(i_k))sin(\\Omega_k) $<br>\n",
    "$ = -y_k\\dot{\\Omega_k} - (\\dot{y_k^’} cos(i_k) - z_k\\dot{i_k})sin(\\Omega_k) + \\dot{x}_k^’cos(\\Omega_k) $ <br>\n",
    "$ \\dot{y_k} = (\\dot{x}_k^’ - y_k^’ \\dot{\\Omega_k}cos(i_k))sin(\\Omega_k) + (x_k^’\\dot{\\Omega_k} + \\dot{_k^’} cos(i_k) - y_k^’\\dot{i_k}sin(i_k)) cos(\\Omega_k) $<br>\n",
    "$ = x_k \\dot{\\Omega_k} + (\\dot{y}_k^’cos(i_k) -z_k \\dot{i_k})cos({\\Omega_k}) + \\dot{x}_k^’sin(\\Omega_k) $ <br>\n",
    "$ \\dot{z_k} = \\dot{y}_k sin(i_k) + y_k^’ \\dot{i_k}cos(i_k)$<br>\n",
    "其中，<br>\n",
    "$ \\dot{x}_k^’ = \\dot{r}_k cos(u_k) - r_k \\dot{u}_k sin(u_k)  $ <br>\n",
    "$ \\dot{y}_k^’ = \\dot{r}_k sin(u_k) + r_k \\dot{u}_k cos(u_k)  $ <br>\n",
    "其中，<br>\n",
    "$ \\dot{u}_k = \\dot{\\Phi}_k + \\delta\\dot{u}_k $  <br>\n",
    "$ \\dot{r}_k = a_s e_s \\dot{E}_k sin(E_k) + \\delta\\dot{r}_k $   <br>\n",
    "$ \\dot{i}_k = \\dot{i} + \\delta\\dot{i}_k $ <br>\n",
    "$ \\dot{\\Omega}_k = \\dot{\\Omega} - \\dot{\\Omega}_e $ <br>\n",
    "其中，<br>\n",
    "$ \\delta\\dot{u}_k = 2 \\dot{\\Phi}_k (C_{us} cos(2\\Phi_k) - C_{uc} sin(2\\Phi_k)) $ <br>\n",
    "$ \\delta\\dot{r}_k = 2 \\dot{\\Phi}_k (C_{rs} cos(2\\Phi_k) - C_{rc} sin(2\\Phi_k)) $ <br>\n",
    "$ \\delta\\dot{i}_k = 2 \\dot{\\Phi}_k (C_{is} cos(2\\Phi_k) - C_{ic} sin(2\\Phi_k)) $ <br>\n",
    "其中，<br>\n",
    "$ \\delta\\dot{\\Phi}_k = \\dot{v}_k $ <br>\n",
    "$ \\dot{v}_k = \\frac {(1+e_scos(v_k))\\dot{E}_ksin(E_k)} {(1 - e_s cos(E_k))sin{v_k}} = \\frac{\\sqrt{1-e_s^2} \\dot{E}_k} {1 - e_s cos(E_k)} $ <br>\n",
    "其中，<br>\n",
    "$ \\dot{E}_k = \\frac{\\dot{M}_k}{1 -e_s cos(E_k)}, \\dot{M}_k = n $\n"
   ]
  },
  {
   "cell_type": "markdown",
   "metadata": {},
   "source": [
    "下面再根据依赖关系，依次计算<br>\n",
    "$ \\dot{E}_k = \\frac{\\dot{M}_k}{1 -e_s cos(E_k)}, \\dot{M}_k = n $\n"
   ]
  },
  {
   "cell_type": "code",
   "execution_count": 17,
   "metadata": {},
   "outputs": [
    {
     "data": {
      "text/plain": [
       "0.00014557427272553583"
      ]
     },
     "execution_count": 17,
     "metadata": {},
     "output_type": "execute_result"
    }
   ],
   "source": [
    "dot_E_k = n / (1 - e_s * cos(E_k))\n",
    "dot_E_k"
   ]
  },
  {
   "cell_type": "markdown",
   "metadata": {},
   "source": [
    "$ \\dot{v}_k = \\frac {(1+e_scos(v_k))\\dot{E}_ksin(E_k)} {(1 - e_s cos(E_k))sin{v_k}} = \\frac{\\sqrt{1-e_s^2} \\dot{E}_k} {1 - e_s cos(E_k)} $ <br>\n"
   ]
  },
  {
   "cell_type": "code",
   "execution_count": 18,
   "metadata": {},
   "outputs": [
    {
     "data": {
      "text/plain": [
       "0.00014528681466356095"
      ]
     },
     "execution_count": 18,
     "metadata": {},
     "output_type": "execute_result"
    }
   ],
   "source": [
    "dot_Phi_k = dot_v_k = sqrt(1 - e_s * e_s) * dot_E_k / (1 - e_s * cos(E_k))\n",
    "dot_v_k"
   ]
  },
  {
   "cell_type": "markdown",
   "metadata": {},
   "source": [
    "$ \\delta\\dot{u}_k = 2 \\dot{\\Phi}_k (C_{us} cos(2\\Phi_k) - C_{uc} sin(2\\Phi_k)) $ <br>\n",
    "$ \\delta\\dot{r}_k = 2 \\dot{\\Phi}_k (C_{rs} cos(2\\Phi_k) - C_{rc} sin(2\\Phi_k)) $ <br>\n",
    "$ \\delta\\dot{i}_k = 2 \\dot{\\Phi}_k (C_{is} cos(2\\Phi_k) - C_{ic} sin(2\\Phi_k)) $ <br>\n"
   ]
  },
  {
   "cell_type": "code",
   "execution_count": 19,
   "metadata": {},
   "outputs": [
    {
     "name": "stdout",
     "output_type": "stream",
     "text": [
      "4.3544557394691074e-10 0.0850385341503285 -5.7802650261722235e-12\n"
     ]
    }
   ],
   "source": [
    "dot_delta_u_k = 2 * dot_Phi_k * (C_us * cos(2 * phi_k) - C_uc * sin(2 * phi_k))\n",
    "dot_delta_r_k = 2 * dot_Phi_k * (C_rs * cos(2 * phi_k) - C_rc * sin(2 * phi_k))\n",
    "dot_delta_i_k = 2 * dot_Phi_k * (C_is * cos(2 * phi_k) - C_ic * sin(2 * phi_k))\n",
    "print(dot_delta_u_k, dot_delta_r_k, dot_delta_i_k)"
   ]
  },
  {
   "cell_type": "markdown",
   "metadata": {},
   "source": [
    "$ \\dot{u}_k = \\dot{\\Phi}_k + \\delta\\dot{u}_k $  <br>\n",
    "$ \\dot{r}_k = a_s e_s \\dot{E}_k sin(E_k) + \\delta\\dot{r}_k $   <br>\n",
    "$ \\dot{i}_k = \\dot{i} + \\delta\\dot{i}_k $ <br>\n",
    "$ \\dot{\\Omega}_k = \\dot{\\Omega} - \\dot{\\Omega}_e $ <br>\n"
   ]
  },
  {
   "cell_type": "code",
   "execution_count": 20,
   "metadata": {},
   "outputs": [
    {
     "name": "stdout",
     "output_type": "stream",
     "text": [
      "0.0001452872501091349 -21.47953804395943 -5.7802650261722235e-12 -7.292930323512499e-05\n"
     ]
    }
   ],
   "source": [
    "dot_u_k = dot_Phi_k + dot_delta_u_k\n",
    "dot_r_k = a_s * e_s * dot_E_k * sin(E_k) + dot_delta_r_k\n",
    "dot_i_k = dot_i + dot_delta_i_k\n",
    "dot_Omega_k = dot_Omega - dot_Omega_earth\n",
    "\n",
    "print(dot_u_k, dot_r_k, dot_i_k, dot_Omega_k)"
   ]
  },
  {
   "cell_type": "markdown",
   "metadata": {},
   "source": [
    "$ \\dot{x}_k^’ = \\dot{r}_kcos(u_k) - r_k\\dot{u}_k sin(u_k)  $ <br>\n",
    "$ \\dot{y}_k^’ = \\dot{r}_ksin(u_k) + r_k\\dot{u}_k cos(u_k)  $ <br>\n"
   ]
  },
  {
   "cell_type": "code",
   "execution_count": 21,
   "metadata": {},
   "outputs": [
    {
     "name": "stdout",
     "output_type": "stream",
     "text": [
      "-1801.875805106754 -3420.9835903885864\n"
     ]
    }
   ],
   "source": [
    "dot_x_k_tmp = dot_r_k * cos(u_k) - r_k * dot_u_k * sin(u_k)\n",
    "dot_y_k_tmp = dot_r_k * sin(u_k) + r_k * dot_u_k * cos(u_k)\n",
    "print(dot_x_k_tmp, dot_y_k_tmp)"
   ]
  },
  {
   "cell_type": "markdown",
   "metadata": {},
   "source": [
    "$ \\dot{x_k} = -y_k\\dot{\\Omega_k} - (\\dot{y_k^’} cos(i_k) - z_k\\dot{i_k})sin(\\Omega_k) + \\dot{x}_k^’cos(\\Omega_k) $ <br>\n",
    "$ \\dot{y_k} =  x_k \\dot{\\Omega_k} + (\\dot{y}_k^’cos(i_k) -z_k \\dot{i_k})cos({\\Omega_k}) + \\dot{x}_k^’sin(\\Omega_k) $ <br>\n",
    "$ \\dot{z_k} = \\dot{y}_k^’ sin(i_k) + y_k^’ \\dot{i_k}cos(i_k)$<br>\n"
   ]
  },
  {
   "cell_type": "code",
   "execution_count": 22,
   "metadata": {},
   "outputs": [
    {
     "name": "stdout",
     "output_type": "stream",
     "text": [
      "1117.1154766572486 -681.9735088321646 -2850.308811425085\n"
     ]
    }
   ],
   "source": [
    "dot_x_k = (\n",
    "    -y_k * dot_Omega_k\n",
    "    - (dot_y_k_tmp * cos(i_k) - z_k * dot_i_k) * sin(Omega_k)\n",
    "    + dot_x_k_tmp * cos(Omega_k)\n",
    ")\n",
    "dot_y_k = (\n",
    "    x_k * dot_Omega_k\n",
    "    + (dot_y_k_tmp * cos(i_k) - z_k * dot_i_k) * cos(Omega_k)\n",
    "    + dot_x_k_tmp * sin(Omega_k)\n",
    ")\n",
    "dot_z_k = dot_y_k_tmp * sin(i_k) + y_k_tmp * dot_i_k * cos(i_k)\n",
    "\n",
    "print(dot_x_k, dot_y_k, dot_z_k)"
   ]
  }
 ],
 "metadata": {
  "kernelspec": {
   "display_name": "Python 3.8.6 64-bit",
   "language": "python",
   "name": "python3"
  },
  "language_info": {
   "codemirror_mode": {
    "name": "ipython",
    "version": 3
   },
   "file_extension": ".py",
   "mimetype": "text/x-python",
   "name": "python",
   "nbconvert_exporter": "python",
   "pygments_lexer": "ipython3",
   "version": "3.8.6"
  },
  "orig_nbformat": 4,
  "vscode": {
   "interpreter": {
    "hash": "570feb405e2e27c949193ac68f46852414290d515b0ba6e5d90d076ed2284471"
   }
  }
 },
 "nbformat": 4,
 "nbformat_minor": 2
}
